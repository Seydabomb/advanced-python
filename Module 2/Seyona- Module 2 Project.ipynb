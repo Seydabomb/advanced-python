{
 "cells": [
  {
   "cell_type": "markdown",
   "metadata": {},
   "source": [
    "# Exploratory Data Analysis on Bob's Bookstore\n",
    "Name: Seyona Creger\n",
    "\n",
    "This analysis is focused on observing potential trends on the books at Bob's Bookstore. \n",
    "\n",
    "\n",
    "## About the data\n",
    "Bob's Bookstore is a fake business that sells books to customers via an online platform. The store mostly deals with books that have animal themes, and all of the information about the store's books can be found on the store's website located at the URL [https://btech-data-analytics.github.io/bridgerland-technical-college/home.htmlLinks](https://btech-data-analytics.github.io/bridgerland-technical-college/home.htmlLinks)"
   ]
  },
  {
   "cell_type": "code",
   "execution_count": 1,
   "metadata": {},
   "outputs": [],
   "source": [
    "# Creates table at the end\n",
    "import pandas as pd \n",
    "# Going to be used to fetch the data from the internet\n",
    "import requests\n",
    "# Going to used to parse through all the data which leads to creating a pandas data frame\n",
    "from bs4 import BeautifulSoup"
   ]
  },
  {
   "cell_type": "markdown",
   "metadata": {},
   "source": [
    "## Scraping Bob's Bookstore Website"
   ]
  },
  {
   "cell_type": "code",
   "execution_count": 35,
   "metadata": {},
   "outputs": [],
   "source": [
    "# Get the website every time we call the variable 'response'\n",
    "response = requests.get('https://btech-data-analytics.github.io/bridgerland-technical-college/bookstore.html').text"
   ]
  },
  {
   "cell_type": "code",
   "execution_count": 41,
   "metadata": {},
   "outputs": [],
   "source": [
    "# initialize beautifulsoup\n",
    "soup = BeautifulSoup(response, 'html.parser')"
   ]
  },
  {
   "cell_type": "code",
   "execution_count": 42,
   "metadata": {},
   "outputs": [
    {
     "data": {
      "text/plain": [
       "<tr class=\"book\">\n",
       "<td>978-1234567890</td>\n",
       "<td>Whiskers of Wisdom: Tales from Feline Philosophers</td>\n",
       "<td>Penelope Wainwright</td>\n",
       "<td>English</td>\n",
       "<td>256</td>\n",
       "<td>Cats</td>\n",
       "<td>$19.99</td>\n",
       "<td><button>Buy now</button></td>\n",
       "</tr>"
      ]
     },
     "execution_count": 42,
     "metadata": {},
     "output_type": "execute_result"
    }
   ],
   "source": [
    "# This code looks for a table and then searches for a tr tag with the class of book. The first one is selected.\n",
    "soup.find('table').find_all('tr', class_='book')[0]"
   ]
  },
  {
   "cell_type": "code",
   "execution_count": 43,
   "metadata": {},
   "outputs": [],
   "source": [
    "# Empty lists where we will store our data into\n",
    "ISBN = []\n",
    "Title = []\n",
    "Author = []\n",
    "Language = []\n",
    "Pages = []\n",
    "Topic = []\n",
    "Price = []\n",
    "# Use a loop to find every book and append its' data to our empty lists\n",
    "for book in soup.find('table').find_all('tr', class_='book'):\n",
    "    ISBN.append(book.find_all('td')[0].text)\n",
    "    Title.append(book.find_all('td')[1].text)\n",
    "    Author.append(book.find_all('td')[2].text)\n",
    "    Language.append(book.find_all('td')[3].text)\n",
    "    Pages.append(book.find_all('td')[4].text)\n",
    "    Topic.append(book.find_all('td')[5].text)\n",
    "    Price.append(book.find_all('td')[6].text)"
   ]
  },
  {
   "cell_type": "code",
   "execution_count": 45,
   "metadata": {},
   "outputs": [
    {
     "name": "stdout",
     "output_type": "stream",
     "text": [
      "['978-1234567890', '978-2345678901', '978-3456789012', '978-4567890123', '978-5678901234', '978-6789012345', '978-7890123456', '978-8901234567', '978-9012345678', '978-0123456789', '978-1234567890', '978-2345678901', '978-3456789012', '978-4567890123', '978-5678901234'] ['Whiskers of Wisdom: Tales from Feline Philosophers', \"Purrfectly Pawesome: A Cat's Life\", 'Cat Tales: Adventures in Whiskerland', 'The Enigmatic Paws: Mysteries of Meowville', 'Cats in Wonderland', 'Whisker Wisdom: Life Lessons from Feline Sages', 'Catnip Chronicles: A Purrfect Journey', 'Cat-astrophe: Tales of Misadventures', \"The Cat's Whisker: A Feline Fantasy\", 'Fur and Friendship: Stories of Feline Companions', 'Tails of Loyalty: Canine Chronicles', \"Pawsitive Adventures: A Dog's Journey\", 'Barking Wisdom: Lessons from Wise Canines', 'Dogged Determination: Stories of Resilient Pooches', 'The Bark Brigade: Canine Heroes Among Us'] ['Penelope Wainwright', 'Jasper Sterling', 'Penelope Wainwright', 'Maximilian Thorne', 'Isadora Harrington', 'Penelope Wainwright', 'Jasper Sterling', 'Celeste Nightshade', 'Penelope Wainwright', 'Seraphina Montague', 'Benjamin Barkley', 'Sophie Shepherd', 'Oliver Obedience', 'Ruby Ruffington', 'Benjamin Barkley'] ['English', 'English', 'English', 'English', 'English', 'English', 'English', 'English', 'English', 'English', 'English', 'English', 'English', 'English', 'English'] ['256', '192', '320', '288', '224', '288', '192', '240', '208', '176', '256', '192', '320', '288', '224'] ['Cats', 'Cats', 'Cats', 'Cats', 'Cats', 'Cats', 'Cats', 'Cats', 'Cats', 'Cats', 'Dogs', 'Dogs', 'Dogs', 'Dogs', 'Dogs'] ['$19.99', '$15.99', '$21.99', '$17.99', '$16.99', '$20.99', '$14.99', '$18.99', '$16.99', '$12.99', '$29.99', '$25.99', '$21.99', '$27.99', '$26.99']\n"
     ]
    }
   ],
   "source": [
    "print(ISBN, Title, Author, Language, Pages, Topic, Price)"
   ]
  },
  {
   "cell_type": "code",
   "execution_count": 46,
   "metadata": {},
   "outputs": [
    {
     "name": "stdout",
     "output_type": "stream",
     "text": [
      "<class 'pandas.core.frame.DataFrame'>\n",
      "RangeIndex: 15 entries, 0 to 14\n",
      "Data columns (total 7 columns):\n",
      " #   Column    Non-Null Count  Dtype \n",
      "---  ------    --------------  ----- \n",
      " 0   ISBN      15 non-null     object\n",
      " 1   Title     15 non-null     object\n",
      " 2   Author    15 non-null     object\n",
      " 3   Language  15 non-null     object\n",
      " 4   Pages     15 non-null     object\n",
      " 5   Topic     15 non-null     object\n",
      " 6   Price     15 non-null     object\n",
      "dtypes: object(7)\n",
      "memory usage: 972.0+ bytes\n"
     ]
    }
   ],
   "source": [
    "# Putting this all into a pandas data frame\n",
    "df = pd.DataFrame({\n",
    "    'ISBN': ISBN,\n",
    "    'Title': Title,\n",
    "    'Author': Author,\n",
    "    'Language': Language,\n",
    "    'Pages': Pages,\n",
    "    'Topic': Topic,\n",
    "    'Price': Price\n",
    "})\n",
    "df.info()"
   ]
  },
  {
   "cell_type": "code",
   "execution_count": null,
   "metadata": {},
   "outputs": [],
   "source": [
    "# Make prices become a float\n",
    "df['Price'] = df['Price'].str.replace('$', '').astype(float)"
   ]
  },
  {
   "cell_type": "code",
   "execution_count": 65,
   "metadata": {},
   "outputs": [],
   "source": [
    "# Make pages become an int\n",
    "df['Pages'] = df['Pages'].astype(int)"
   ]
  },
  {
   "cell_type": "code",
   "execution_count": 57,
   "metadata": {},
   "outputs": [
    {
     "data": {
      "text/html": [
       "<div>\n",
       "<style scoped>\n",
       "    .dataframe tbody tr th:only-of-type {\n",
       "        vertical-align: middle;\n",
       "    }\n",
       "\n",
       "    .dataframe tbody tr th {\n",
       "        vertical-align: top;\n",
       "    }\n",
       "\n",
       "    .dataframe thead th {\n",
       "        text-align: right;\n",
       "    }\n",
       "</style>\n",
       "<table border=\"1\" class=\"dataframe\">\n",
       "  <thead>\n",
       "    <tr style=\"text-align: right;\">\n",
       "      <th></th>\n",
       "      <th>ISBN</th>\n",
       "      <th>Title</th>\n",
       "      <th>Author</th>\n",
       "      <th>Language</th>\n",
       "      <th>Pages</th>\n",
       "      <th>Topic</th>\n",
       "      <th>Price</th>\n",
       "    </tr>\n",
       "  </thead>\n",
       "  <tbody>\n",
       "    <tr>\n",
       "      <th>0</th>\n",
       "      <td>978-1234567890</td>\n",
       "      <td>Whiskers of Wisdom: Tales from Feline Philosop...</td>\n",
       "      <td>Penelope Wainwright</td>\n",
       "      <td>English</td>\n",
       "      <td>256</td>\n",
       "      <td>Cats</td>\n",
       "      <td>19.99</td>\n",
       "    </tr>\n",
       "    <tr>\n",
       "      <th>1</th>\n",
       "      <td>978-2345678901</td>\n",
       "      <td>Purrfectly Pawesome: A Cat's Life</td>\n",
       "      <td>Jasper Sterling</td>\n",
       "      <td>English</td>\n",
       "      <td>192</td>\n",
       "      <td>Cats</td>\n",
       "      <td>15.99</td>\n",
       "    </tr>\n",
       "    <tr>\n",
       "      <th>2</th>\n",
       "      <td>978-3456789012</td>\n",
       "      <td>Cat Tales: Adventures in Whiskerland</td>\n",
       "      <td>Penelope Wainwright</td>\n",
       "      <td>English</td>\n",
       "      <td>320</td>\n",
       "      <td>Cats</td>\n",
       "      <td>21.99</td>\n",
       "    </tr>\n",
       "    <tr>\n",
       "      <th>3</th>\n",
       "      <td>978-4567890123</td>\n",
       "      <td>The Enigmatic Paws: Mysteries of Meowville</td>\n",
       "      <td>Maximilian Thorne</td>\n",
       "      <td>English</td>\n",
       "      <td>288</td>\n",
       "      <td>Cats</td>\n",
       "      <td>17.99</td>\n",
       "    </tr>\n",
       "    <tr>\n",
       "      <th>4</th>\n",
       "      <td>978-5678901234</td>\n",
       "      <td>Cats in Wonderland</td>\n",
       "      <td>Isadora Harrington</td>\n",
       "      <td>English</td>\n",
       "      <td>224</td>\n",
       "      <td>Cats</td>\n",
       "      <td>16.99</td>\n",
       "    </tr>\n",
       "  </tbody>\n",
       "</table>\n",
       "</div>"
      ],
      "text/plain": [
       "             ISBN                                              Title  \\\n",
       "0  978-1234567890  Whiskers of Wisdom: Tales from Feline Philosop...   \n",
       "1  978-2345678901                  Purrfectly Pawesome: A Cat's Life   \n",
       "2  978-3456789012               Cat Tales: Adventures in Whiskerland   \n",
       "3  978-4567890123         The Enigmatic Paws: Mysteries of Meowville   \n",
       "4  978-5678901234                                 Cats in Wonderland   \n",
       "\n",
       "                Author Language Pages Topic  Price  \n",
       "0  Penelope Wainwright  English   256  Cats  19.99  \n",
       "1      Jasper Sterling  English   192  Cats  15.99  \n",
       "2  Penelope Wainwright  English   320  Cats  21.99  \n",
       "3    Maximilian Thorne  English   288  Cats  17.99  \n",
       "4   Isadora Harrington  English   224  Cats  16.99  "
      ]
     },
     "execution_count": 57,
     "metadata": {},
     "output_type": "execute_result"
    }
   ],
   "source": [
    "df.head()"
   ]
  },
  {
   "cell_type": "markdown",
   "metadata": {},
   "source": [
    "## Analysis\n",
    "Specifically, we will answer the following questions in the analysis:\n",
    "\n",
    "* Which author has the most books listed at Bob's Bookstore?\n",
    "* Which is the most popular topic among books at Bob's Bookstore?\n",
    "* Which topic of books is the most expensive, on average?\n",
    "* Which topic of books has the most pages, on average?"
   ]
  },
  {
   "cell_type": "markdown",
   "metadata": {},
   "source": [
    "### Which author has the most books listed at Bob's Bookstore?\n",
    "\n",
    "The data tells us that Penelope Wainwright has the most books at Bob's Bookstore, by far. Penelope has four books there while the next two authors only have two books present. The rest of the authors only have a single book there. "
   ]
  },
  {
   "cell_type": "code",
   "execution_count": 67,
   "metadata": {},
   "outputs": [
    {
     "data": {
      "text/plain": [
       "Author\n",
       "Penelope Wainwright    4\n",
       "Jasper Sterling        2\n",
       "Benjamin Barkley       2\n",
       "Maximilian Thorne      1\n",
       "Celeste Nightshade     1\n",
       "Isadora Harrington     1\n",
       "Seraphina Montague     1\n",
       "Sophie Shepherd        1\n",
       "Oliver Obedience       1\n",
       "Ruby Ruffington        1\n",
       "Name: count, dtype: int64"
      ]
     },
     "execution_count": 67,
     "metadata": {},
     "output_type": "execute_result"
    }
   ],
   "source": [
    "df['Author'].value_counts()"
   ]
  },
  {
   "cell_type": "markdown",
   "metadata": {},
   "source": [
    "### Which is the most popular topic among books at Bob's Bookstore?\n",
    "From the featured page on Bob's website, I would guess that cats would be the most popular topic. \n",
    "\n",
    "From our data, it is evident that my guess was right. 'Cats' are the leading topic on the site, doubling the 'Dogs' topic."
   ]
  },
  {
   "cell_type": "code",
   "execution_count": 52,
   "metadata": {},
   "outputs": [
    {
     "data": {
      "text/plain": [
       "Topic\n",
       "Cats    10\n",
       "Dogs     5\n",
       "Name: count, dtype: int64"
      ]
     },
     "execution_count": 52,
     "metadata": {},
     "output_type": "execute_result"
    }
   ],
   "source": [
    "df['Topic'].value_counts()"
   ]
  },
  {
   "cell_type": "markdown",
   "metadata": {},
   "source": [
    "### Which topic of books is the most expensive, on average?\n",
    "\n",
    "On average, our data tells us that the 'Dogs' topic has the most expensive books. They lead by an average of \\$26.59, with 'Cats' averaging only \\$17.79. "
   ]
  },
  {
   "cell_type": "code",
   "execution_count": 60,
   "metadata": {},
   "outputs": [
    {
     "data": {
      "text/plain": [
       "Topic\n",
       "Dogs    26.59\n",
       "Cats    17.79\n",
       "Name: Price, dtype: float64"
      ]
     },
     "execution_count": 60,
     "metadata": {},
     "output_type": "execute_result"
    }
   ],
   "source": [
    "df.groupby('Topic')['Price'].mean().sort_values(ascending=False)"
   ]
  },
  {
   "cell_type": "markdown",
   "metadata": {},
   "source": [
    "### Which topic of books has the most pages, on average?\n",
    "\n",
    "On average, we can see from the code below that 'Dogs' books have the most pages. They lead with an average of 256 pages; whereas, 'Cats' only have 238.4 pages. \n"
   ]
  },
  {
   "cell_type": "code",
   "execution_count": 66,
   "metadata": {},
   "outputs": [
    {
     "data": {
      "text/plain": [
       "Topic\n",
       "Dogs    256.0\n",
       "Cats    238.4\n",
       "Name: Pages, dtype: float64"
      ]
     },
     "execution_count": 66,
     "metadata": {},
     "output_type": "execute_result"
    }
   ],
   "source": [
    "df.groupby('Topic')['Pages'].mean().sort_values(ascending=False)"
   ]
  },
  {
   "cell_type": "markdown",
   "metadata": {},
   "source": [
    "## Conclusion\n",
    "From the analysis of books at Bob's Bookstore, several key insights have emerged. The most prolific author on the site is Penelope Wainwright. In addition, the most popular topic present is Cats. Surprisingly, books categorized under the topic of Dogs are the most expensive on average, highlighting their perceived value or niche market demand among customers. Similarly, books categorized under Dogs also have the highest average page count, indicating substantial content depth or complexity within this category.\n",
    "\n",
    "From these findings, we can use them to sufficiently help Bob's business. With Cats identified as the most popular topic, Bob's Bookstore can focus marketing efforts on promoting books related to Cats to attract more customers and increase sales. Recognizing that books categorized under Dogs command higher prices and have more pages, Bob's Bookstore can strategically price these books to maximize revenue while also highlighting their content depth to appeal to interested buyers.\n",
    "\n",
    "To further enhance decision-making and customer satisfaction, future studies could explore:\n",
    "\n",
    "* **Customer Preferences**: Conducting surveys or analyzing sales data to understand why certain topics or authors resonate more with customers.\n",
    "\n",
    "* **Market Trends**: Monitoring industry trends and competitor analysis to stay ahead of evolving customer interests and market demands.\n",
    "\n",
    "* **Content Analysis**: Delving deeper into the themes and narratives within popular topics like Cats and Dogs to uncover underlying reasons for their popularity and potential areas for expansion.\n",
    "\n",
    "By leveraging these insights and conducting further studies, Bob's Bookstore can continue to refine its inventory selection, marketing strategies, and overall customer experience, ultimately driving growth and success in the competitive bookstore market."
   ]
  }
 ],
 "metadata": {
  "kernelspec": {
   "display_name": "Python 3",
   "language": "python",
   "name": "python3"
  },
  "language_info": {
   "codemirror_mode": {
    "name": "ipython",
    "version": 3
   },
   "file_extension": ".py",
   "mimetype": "text/x-python",
   "name": "python",
   "nbconvert_exporter": "python",
   "pygments_lexer": "ipython3",
   "version": "3.12.4"
  }
 },
 "nbformat": 4,
 "nbformat_minor": 2
}
